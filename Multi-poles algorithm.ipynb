{
 "cells": [
  {
   "cell_type": "code",
   "execution_count": 1,
   "metadata": {},
   "outputs": [],
   "source": [
    "#imports\n",
    "import numpy as np\n",
    "import statistics\n",
    "from statistics import mode\n",
    "import pandas as pd\n",
    "import time"
   ]
  },
  {
   "cell_type": "code",
   "execution_count": 28,
   "metadata": {},
   "outputs": [],
   "source": [
    "#cartesian coordinates\n",
    "def dist1(star_i, star_j):\n",
    "    return np.arccos(np.dot(star_i, star_j))"
   ]
  },
  {
   "cell_type": "code",
   "execution_count": 3,
   "metadata": {},
   "outputs": [],
   "source": [
    "# Create Feature Set\n",
    "def create_feature_set(catalog, FOV):\n",
    "    feature_set = [] # [(id(0), id(1)), theta < FOV]\n",
    "    for i in range(len(catalog)):\n",
    "        for j in range(i+1, len(catalog)):\n",
    "            theta = dist1(catalog['position'][i], catalog['position'][j])\n",
    "            if theta <= FOV:\n",
    "                feature_set.append((catalog['id'][i], catalog['id'][j], theta))\n",
    "    return feature_set"
   ]
  },
  {
   "cell_type": "code",
   "execution_count": 4,
   "metadata": {},
   "outputs": [],
   "source": [
    "def initialise(stars, ids, num_poles):\n",
    "    init = []\n",
    "    for i in range(len(stars)):\n",
    "        init.append((stars[i], ids[i]))\n",
    "    init = np.array(list(init), dtype=[('position', object), ('id', object)])\n",
    "    init = init[:num_poles]\n",
    "    combos = []\n",
    "    for i in range(len(stars)-1, 0, -1):\n",
    "        for j in range(i-1, -1, -1):\n",
    "            combos.append([init[i], init[j]])\n",
    "    return combos"
   ]
  },
  {
   "cell_type": "code",
   "execution_count": 5,
   "metadata": {},
   "outputs": [],
   "source": [
    "#Create neighbour set of first pole using angular distances\n",
    "def create_distance_set(stars, pole):\n",
    "    distance = [(star, pole, dist1(star, pole)) for star in stars if not np.array_equal(star, pole)]\n",
    "    return np.array(distance, dtype=[('star', object), ('pole', object), ('distance', object)])"
   ]
  },
  {
   "cell_type": "code",
   "execution_count": 6,
   "metadata": {},
   "outputs": [],
   "source": [
    "def create_pair_list_simple(feature_set, distance, eps_pi):\n",
    "    pairs = []\n",
    "    distances = []\n",
    "    for i in range(len(feature_set)):\n",
    "        if np.abs(feature_set[i][2] - distance) <= eps_pi:\n",
    "            pairs.append((feature_set[i][0], feature_set[i][1]))\n",
    "        distances.append(((feature_set[i][0], feature_set[i][1]), feature_set[i][2], distance, np.abs(feature_set[i][2] - distance)))\n",
    "    distances = np.array(distances, dtype = [(\"feature ids\", object), (\"ground truth\", object), (\"calculated\", object), (\"distance\", object)])\n",
    "    distances = np.sort(distances, order='distance')\n",
    "    return pairs"
   ]
  },
  {
   "cell_type": "code",
   "execution_count": 7,
   "metadata": {},
   "outputs": [],
   "source": [
    "def create_pair_list_long(feature_set, distances, eps_pi):\n",
    "    pairs = []\n",
    "    for j, distance in enumerate(distances):\n",
    "        for i in range(len(feature_set)):\n",
    "            if np.abs(feature_set[i][2] - distance['distance']) <= eps_pi:\n",
    "                pairs.append((j, (feature_set[i][0], feature_set[i][1])))\n",
    "                #if j >= N:\n",
    "                #    pairs.append((j+1, (feature_set[i][0], feature_set[i][1])))\n",
    "                #else:\n",
    "                #    pairs.append((j, (feature_set[i][0], feature_set[i][1])))\n",
    "    return np.array(pairs, dtype=[('index', object), ('feature ids', object)])"
   ]
  },
  {
   "cell_type": "code",
   "execution_count": 8,
   "metadata": {},
   "outputs": [],
   "source": [
    "#pole is one that occurs most in list. one vote per pole per star\n",
    "\n",
    "def find_pole_in_pairs(pair_list, gt):\n",
    "    index_counts = list(np.empty([len(stars),1]))\n",
    "    counts = []\n",
    "    for pair in pair_list:\n",
    "        for star_id in pair['feature ids']:\n",
    "            if star_id not in index_counts[pair['index']]:\n",
    "                index_counts[int(pair['index'])] = np.append(index_counts[int(pair['index'])], star_id)\n",
    "                counts.append(star_id)\n",
    "    print(\"ground truth in counts\", counts.count(gt))\n",
    "    print(\"max counts\", counts.count(mode(counts)))\n",
    "    return mode(counts), counts\n"
   ]
  },
  {
   "cell_type": "code",
   "execution_count": 9,
   "metadata": {},
   "outputs": [],
   "source": [
    "# neighbours are all stars paired with pole\n",
    "\n",
    "def create_neighbour_set(pairs, pole):\n",
    "    pole_neighbours = []\n",
    "    for pair in pairs:\n",
    "        if pair['feature ids'][0] == pole:\n",
    "            pole_neighbours.append((pair['index'], pair['feature ids'][1]))\n",
    "        elif pair['feature ids'][1] == pole:\n",
    "            pole_neighbours.append((pair['index'], pair['feature ids'][0]))\n",
    "    pole_neighbours = np.array(pole_neighbours, dtype=[('index', object), ('id', object)])\n",
    "    return pole_neighbours\n",
    "\n",
    "def create_neighbour_id_set(pairs, pole):\n",
    "    return [ID for pair in pairs for ID in pair if pole in pair and ID != pole]"
   ]
  },
  {
   "cell_type": "code",
   "execution_count": 10,
   "metadata": {},
   "outputs": [],
   "source": [
    "def intersection(set_1, set_2):    \n",
    "    intersection = [(star['index'], star['id']) for star in set_1 if star in set_2]\n",
    "    return intersection"
   ]
  },
  {
   "cell_type": "code",
   "execution_count": 11,
   "metadata": {},
   "outputs": [],
   "source": [
    "#returns intersection list if u and w true, else returns 0\n",
    "\n",
    "def verification_phase(pole_i, neighbours_i, pole_j, neighbours_j, th):\n",
    "    u = (pole_i['id'] in neighbours_j['id']) and (pole_j['id'] in neighbours_i['id'])\n",
    "    if not u:\n",
    "        return 'not u'\n",
    "    V = intersection(neighbours_i, neighbours_j)\n",
    "    w = len(V) >= th\n",
    "    if not w:\n",
    "        return 'not w'\n",
    "    position = np.where(neighbours_i['id'] == pole_j['id'])\n",
    "    V.append(neighbours_i[position][0])\n",
    "    V = np.array(V, dtype = [('index', object), ('id', object)])\n",
    "    return V"
   ]
  },
  {
   "cell_type": "code",
   "execution_count": 30,
   "metadata": {},
   "outputs": [],
   "source": [
    "def confirmation_phase(verified, confirmed, features, stars):\n",
    "    if len(verified) == 0:\n",
    "        print(confirmed['position'])\n",
    "        #label_false_stars(confirmed, stars)\n",
    "        return confirmed\n",
    "    v = verified[0]\n",
    "    verified = verified[1:]\n",
    "    v_pos = stars[v['index']]\n",
    "    c_pos = confirmed[-1]['position']\n",
    "    distance = dist1(v_pos.tolist(), c_pos.tolist())\n",
    "    confirmed_features = [feature for feature in features if confirmed[-1]['id'] in feature]\n",
    "    pairs = create_pair_list_simple(confirmed_features, distance, eps_pi)\n",
    "    pairs = [pair for pair in pairs if v['id'] in pair]\n",
    "    \n",
    "    if len(pairs) == 0:\n",
    "        return confirmation_phase(verified, confirmed, features, stars)\n",
    "    else:\n",
    "        dtype = confirmed.dtype\n",
    "        confirmed = list(confirmed)\n",
    "        confirmed.append((v['id'], v_pos))\n",
    "        confirmed = np.array(confirmed, dtype=dtype)\n",
    "        return confirmation_phase(verified, confirmed, features, stars)\n",
    "    return"
   ]
  },
  {
   "cell_type": "code",
   "execution_count": 13,
   "metadata": {},
   "outputs": [],
   "source": [
    "#returns pole and neighbour ids\n",
    "def acceptance_phase(stars, features, candidate_pole, eps_pi, gt):\n",
    "    distances = create_distance_set(stars, candidate_pole)\n",
    "    pairs = create_pair_list_long(features, distances, eps_pi)\n",
    "    pole, counts = find_pole_in_pairs(pairs, gt)\n",
    "    neighbours = create_neighbour_set(pairs, pole)\n",
    "    pole = np.array((pole, candidate_pole), dtype=[('id', object), ('position', object)])\n",
    "    return pole, neighbours, counts"
   ]
  },
  {
   "cell_type": "code",
   "execution_count": 14,
   "metadata": {},
   "outputs": [],
   "source": [
    "'''def recursive_MPA(stars, candidate_poles, i, j, features, th):\n",
    "    if i == 0:\n",
    "        return -1\n",
    "    pole_i, neighbours_i, counts = acceptance_phase(stars, features, candidate_poles['position'][i], eps_pi, N, candidate_poles['id'][i])\n",
    "    print(\"id in catalog\", candidate_poles['id'][i] in catalog['id'])\n",
    "    print(\"id in pair list\", candidate_poles['id'][i] in counts)\n",
    "    print(\"GROUND TRUTH POLE FOUND: \", pole_i['id'], candidate_poles['id'][i] == pole_i['id'])\n",
    "    print(\"NEIGHBOUR SET LENGTH: \", len(neighbours_i))\n",
    "    \n",
    "    pole_j, neighbours_j, counts = acceptance_phase(stars, features, candidate_poles['position'][j], eps_pi, N, candidate_poles['id'][j])\n",
    "    print(\"id in catalog\", candidate_poles['id'][i] in catalog['id'])\n",
    "    print(\"id in pair list\", candidate_poles['id'][j] in counts)\n",
    "    print(\"GROUND TRUTH POLE FOUND: \", pole_j['id'], candidate_poles['id'][j] == pole_j['id'])\n",
    "    print(\"NEIGHBOUR SET LENGTH: \", len(neighbours_j))\n",
    "    \n",
    "    verified = verification_phase(pole_i, neighbours_i, pole_j, neighbours_j, th)\n",
    "    if not isinstance(verified, str):\n",
    "        confirmed = np.array([(pole_i['id'], pole_i['position'])], dtype=[('id', int), ('position', list)])\n",
    "        return confirmation_phase(verified, confirmed, features, stars)\n",
    "    elif verified == 'not u':\n",
    "        print(\"not u\")\n",
    "        return recursive_MPA(stars, candidate_poles, i-1, i-2, features, th)\n",
    "    elif verified == 'not w':\n",
    "        print(\"not w\")\n",
    "        return recursive_MPA(stars, candidate_poles, i, j-1, features, th)\n",
    "    else:\n",
    "        print(f\"error: verified returned wrong type/output... {verified}\")'''\n",
    "        \n",
    "def recursive_MPA(stars, pole_combinations, i, features):\n",
    "    if i == len(pole_combinations):\n",
    "        return -1\n",
    "    pole_i, neighbours_i, counts = acceptance_phase(stars, features, pole_combinations[i][0]['position'], eps_pi, pole_combinations[i][0]['id'])\n",
    "    #print(\"acceptance i ground truth\", pole_combinations[i][0]['id'])\n",
    "    #print(\"id in catalog\", pole_combinations[i][0]['id'] in catalog['id'])\n",
    "    #print(\"id in pair list\", pole_combinations[i][0]['id'] in counts)\n",
    "    print(\"GROUND TRUTH POLE FOUND: \", pole_i['id'], pole_combinations[i][0]['id'] == pole_i['id'])\n",
    "    #print(\"NEIGHBOUR SET LENGTH: \", len(neighbours_i))\n",
    "    \n",
    "    pole_j, neighbours_j, counts = acceptance_phase(stars, features, pole_combinations[i][1]['position'], eps_pi, pole_combinations[i][1]['id'])\n",
    "    #print(\"acceptance j ground truth\", pole_combinations[i][1]['id'])\n",
    "    #print(\"id in catalog\", pole_combinations[i][1]['id'] in catalog['id'])\n",
    "    #print(\"id in pair list\", pole_combinations[i][1]['id'] in counts)\n",
    "    print(\"GROUND TRUTH POLE FOUND: \", pole_j['id'], pole_combinations[i][1]['id'] == pole_j['id'])\n",
    "    #print(\"NEIGHBOUR SET LENGTH: \", len(neighbours_i))\n",
    "    \n",
    "    verified = verification_phase(pole_i, neighbours_i, pole_j, neighbours_j, th)\n",
    "    if not isinstance(verified, str):\n",
    "        confirmed = np.array([(pole_i['id'], pole_i['position'])], dtype=[('id', object), ('position', object)])\n",
    "        return confirmation_phase(verified, confirmed, features, stars)\n",
    "    else:\n",
    "        return recursive_MPA(stars, pole_combinations, i+1, features)"
   ]
  },
  {
   "cell_type": "code",
   "execution_count": 31,
   "metadata": {
    "scrolled": false
   },
   "outputs": [
    {
     "name": "stdout",
     "output_type": "stream",
     "text": [
      "0.0001\n",
      "ground truth in counts 8\n",
      "max counts 8\n",
      "GROUND TRUTH POLE FOUND:  2425 True\n",
      "ground truth in counts 8\n",
      "max counts 8\n",
      "GROUND TRUTH POLE FOUND:  2407 True\n",
      "[array(array([ 0.11502778, -0.04491449,  0.99234636]), dtype=object)\n",
      " array([-0.10986611, -0.03472711,  0.99333955])\n",
      " array([0.09083594, 0.02376832, 0.99558219])\n",
      " array([ 0.03169557, -0.03475242,  0.99889322])\n",
      " array([ 0.0340467 , -0.09032346,  0.99533034])\n",
      " array([-0.07762772, -0.02176654,  0.99674478])\n",
      " array([-0.06372659,  0.10522019,  0.99240497])]\n",
      "correctly calculated ids 7\n",
      "ground truth ids 10\n"
     ]
    },
    {
     "ename": "NameError",
     "evalue": "name 'get_results' is not defined",
     "output_type": "error",
     "traceback": [
      "\u001b[0;31m---------------------------------------------------------------------------\u001b[0m",
      "\u001b[0;31mNameError\u001b[0m                                 Traceback (most recent call last)",
      "\u001b[0;32m<ipython-input-31-1332c09f728f>\u001b[0m in \u001b[0;36m<module>\u001b[0;34m\u001b[0m\n\u001b[1;32m     49\u001b[0m     \u001b[0;32melse\u001b[0m\u001b[0;34m:\u001b[0m\u001b[0;34m\u001b[0m\u001b[0;34m\u001b[0m\u001b[0m\n\u001b[1;32m     50\u001b[0m         \u001b[0mprint\u001b[0m\u001b[0;34m(\u001b[0m\u001b[0;34m\"no result\"\u001b[0m\u001b[0;34m)\u001b[0m\u001b[0;34m\u001b[0m\u001b[0;34m\u001b[0m\u001b[0m\n\u001b[0;32m---> 51\u001b[0;31m     \u001b[0mget_results\u001b[0m\u001b[0;34m(\u001b[0m\u001b[0mi\u001b[0m\u001b[0;34m,\u001b[0m \u001b[0mids\u001b[0m\u001b[0;34m,\u001b[0m \u001b[0mchain_set\u001b[0m\u001b[0;34m,\u001b[0m \u001b[0;34mf'output/{eps_pi}'\u001b[0m\u001b[0;34m)\u001b[0m\u001b[0;34m\u001b[0m\u001b[0;34m\u001b[0m\u001b[0m\n\u001b[0m\u001b[1;32m     52\u001b[0m \u001b[0mend\u001b[0m \u001b[0;34m=\u001b[0m \u001b[0mtime\u001b[0m\u001b[0;34m.\u001b[0m\u001b[0mtime\u001b[0m\u001b[0;34m(\u001b[0m\u001b[0;34m)\u001b[0m\u001b[0;34m\u001b[0m\u001b[0;34m\u001b[0m\u001b[0m\n\u001b[1;32m     53\u001b[0m \u001b[0mprint\u001b[0m\u001b[0;34m(\u001b[0m\u001b[0;34m\"\\ntime\"\u001b[0m\u001b[0;34m,\u001b[0m \u001b[0mend\u001b[0m\u001b[0;34m-\u001b[0m\u001b[0mstart\u001b[0m\u001b[0;34m)\u001b[0m\u001b[0;34m\u001b[0m\u001b[0;34m\u001b[0m\u001b[0m\n",
      "\u001b[0;31mNameError\u001b[0m: name 'get_results' is not defined"
     ]
    }
   ],
   "source": [
    "def get_data_from_file_arr(file):\n",
    "    catalog = []\n",
    "    for i, line in enumerate(file):\n",
    "        line = list(map(float, line.split()))\n",
    "        if np.linalg.norm(line) - 1.54 <= 5.5:\n",
    "            line = line/np.linalg.norm(line)\n",
    "            catalog.append((i, line))\n",
    "    return np.array(catalog, dtype=[('id', object), ('position', object)])\n",
    "\n",
    "def get_data_from_file(stars, ids):\n",
    "    ids = ids.read().split()\n",
    "    star_image = []\n",
    "    ids_image = []\n",
    "    for i, line in enumerate(stars):\n",
    "        line = list(map(float, line.split()))\n",
    "        if np.linalg.norm(line) - 1.54 <= 5.5:\n",
    "            line = line/np.linalg.norm(line)\n",
    "            star_image.append(list(line))\n",
    "            ids_image.append(int(ids[i]))\n",
    "    return np.array(star_image), ids_image\n",
    "\n",
    "FOV = np.deg2rad(14)\n",
    "eps_pi = 10e-5\n",
    "th = 5\n",
    "\n",
    "#file = open(\"HIP_catalog_vectors_with_mag_less_than_6\", \"r\")\n",
    "#catalog = get_data_from_file_arr(file)\n",
    "#features = create_feature_set(catalog, FOV)\n",
    "\n",
    "start = time.time()\n",
    "#for eps_pi in eps_pis:\n",
    "print(f'{eps_pi}')\n",
    "for i in range(1):\n",
    "    i = 3\n",
    "    print(i, end='\\r')\n",
    "    stars = open(f\"0 2/stars_{i}\")\n",
    "    ids = open(f\"0 2/id_{i}\")\n",
    "    stars, ids = get_data_from_file(stars, ids)\n",
    "    Rp = len(stars)\n",
    "\n",
    "    pole_combinations = initialise(stars, ids, Rp)\n",
    "    chain_set = recursive_MPA(stars, pole_combinations, 0, features)\n",
    "\n",
    "    #chain_set = recursive_MPA(stars, candidate_poles, N, N-1, features, th)\n",
    "\n",
    "    if not isinstance(chain_set, int):\n",
    "        print(\"correctly calculated ids\", len([i for i in chain_set['id'] if i in ids]))\n",
    "        print(\"ground truth ids\", len([i for i in ids if i in catalog['id']]))\n",
    "    else:\n",
    "        print(\"no result\")\n",
    "    get_results(i, ids, chain_set, f'output/{eps_pi}')\n",
    "end = time.time()\n",
    "print(\"\\ntime\", end-start)\n"
   ]
  },
  {
   "cell_type": "code",
   "execution_count": null,
   "metadata": {},
   "outputs": [],
   "source": [
    "def label_false_stars(confirmed, stars):\n",
    "    print(confirmed)\n",
    "    confirmed_ids = []\n",
    "    for star in stars:\n",
    "        for confirmed_star in confirmed['position']:\n",
    "            print(star == confirmed_star)\n",
    "            if star == confirmed_star:\n",
    "                confirmed_ids.append(confirmed_star)\n",
    "                break\n",
    "            confirmed_ids.append(-1)\n",
    "    print(confirmed_ids)\n",
    "    return confirmed_ids"
   ]
  },
  {
   "cell_type": "code",
   "execution_count": 26,
   "metadata": {},
   "outputs": [
    {
     "name": "stdout",
     "output_type": "stream",
     "text": [
      "[(1, 2)]\n",
      "0.22560484240782508\n"
     ]
    }
   ],
   "source": [
    "a = np.array([(1, 2)], dtype=[('id', object), ('position', object)])\n",
    "print(a)\n",
    "a = [-0.1098661097413664, -0.03472710675645746, 0.9933395522109364]\n",
    "b = [0.11502778008127919, -0.04491448755009479, 0.9923463602078084]\n",
    "print(np.arccos(np.dot(a, b)))"
   ]
  },
  {
   "cell_type": "code",
   "execution_count": null,
   "metadata": {},
   "outputs": [],
   "source": [
    "def get_results(i, ids, chain_set, out_dir):\n",
    "    no_result = isinstance(chain_set, int)\n",
    "    if no_result:\n",
    "        # write 0 to id rate\n",
    "        result_str = '-1, -1\\n'\n",
    "        with open(out_dir, 'a') as f:\n",
    "            f.write(result_str)\n",
    "    else:\n",
    "        id_set = [link for link in chain_set['id'] if link in ids]\n",
    "        id_rate = len(id_set) / (len(ids) - ids.count(-1))\n",
    "        error_rate = (len([link for link in chain_set['id'] if not link in ids])) / len(id_set)\n",
    "\n",
    "        result_str = str(id_rate) + ', ' + str(error_rate) + '\\n'\n",
    "        with open(out_dir, 'a') as f:\n",
    "            f.write(result_str)\n",
    "    return\n",
    "    "
   ]
  },
  {
   "cell_type": "markdown",
   "metadata": {},
   "source": [
    "graphs x axis is pixel noise, y axis is id rate\n",
    "same for x axis is mag noise\n",
    "same for x axis is false stars percentage against true stars\n",
    "each graph for each FOV\n",
    "return file with numbers\n",
    "implement id rate metric\n",
    "implement id = -1 for unidentified stars\n",
    "1. id rate = frac{true positive}{total number of stars} > 0.7\n",
    "2. measure false recognition rate. False positives/total N\n",
    "3. No result. number of times back out of verification/total times run\n",
    "\n",
    "TP + FP + NR = number of images in set (1000)\n",
    "\n",
    "if it's not true positive or no result, it's false positive\n",
    "\n",
    "get pole star from Angular distance between star and [0,0,1]\n",
    "eps_pi test from 2e-4 to 6e-4 in steps of 0.8\n",
    "- 2e-4, 2.8e-4, 3.6e-4, 4.4e-4, 5.2e-4, 6e-4\n",
    "- 10e-5 -> 6e-4 steps of 2e-5\n",
    "\n",
    "test on data/5/FOV 14\n",
    "\n",
    "after all that, set feature set threshold to <= 6 instead of 5.5"
   ]
  },
  {
   "cell_type": "code",
   "execution_count": null,
   "metadata": {},
   "outputs": [],
   "source": [
    "print((6e-4 - 10e-5) / 5)\n",
    "print(f'{6e-4 - 1e-4:.1E}')\n",
    "print(f'{5e-4 - 1e-4:.1E}')\n",
    "eps_pis = [6e-4, 5e-4, 4e-4, 3e-4, 2e-4, 1e-4]"
   ]
  }
 ],
 "metadata": {
  "kernelspec": {
   "display_name": "Python 3",
   "language": "python",
   "name": "python3"
  },
  "language_info": {
   "codemirror_mode": {
    "name": "ipython",
    "version": 3
   },
   "file_extension": ".py",
   "mimetype": "text/x-python",
   "name": "python",
   "nbconvert_exporter": "python",
   "pygments_lexer": "ipython3",
   "version": "3.8.5"
  }
 },
 "nbformat": 4,
 "nbformat_minor": 4
}
