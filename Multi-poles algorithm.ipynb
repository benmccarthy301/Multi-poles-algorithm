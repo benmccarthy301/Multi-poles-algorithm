{
 "cells": [
  {
   "cell_type": "code",
   "execution_count": 1,
   "metadata": {},
   "outputs": [],
   "source": [
    "#imports\n",
    "import numpy as np\n",
    "import math\n",
    "from PIL import Image, ImageOps\n",
    "import io\n",
    "import cv2\n",
    "from star_data_generator import *\n",
    "from scipy import stats\n",
    "import copy\n",
    "import time"
   ]
  },
  {
   "cell_type": "code",
   "execution_count": 2,
   "metadata": {},
   "outputs": [],
   "source": [
    "# Cluster stars\n",
    "# remove low SNR Clusters\n",
    "# calculate centroids\n",
    "# transform detector to sphere space\n",
    "# for each star in catalog, calculate angular distance between it and every other star\n",
    "# Acceptance:\n",
    "#   select pole and create neighbour set\n",
    "#   compute angular distances of pole and every neighbour star\n",
    "#   create list of pairs from catalog with that angular distance (or close to?)\n",
    "#   count number of occurrences of each star in list of pairs\n",
    "#   pole star is the one that occurs most in list\n",
    "#   neighbour stars are all those paired with it\n",
    "#  repeat with another pole star n times\n",
    "# Verification:\n",
    "#   check if i-th pole is in j-th set and j-th pole in i-th set\n",
    "#   if yes, check if length of intersection of accepted stars is greater than some threshold\n",
    "#   if no, repeat for different j until both yes\n",
    "#   if no for all j, repeat acceptance\n",
    "#   if still no, use different image and start again\n",
    "# Confirmation:\n",
    "#   Let the pole star be confirmed\n",
    "#   calculate angular displacement between confirmed star and another test star\n",
    "#   build link set: stars with angular distance close to the measured one within tolerance\n",
    "#   if test star is in link set, star is confirmed, add to chain set\n",
    "#   if not, discard test star and try new one\n",
    "#   output is final chain"
   ]
  },
  {
   "cell_type": "code",
   "execution_count": 2,
   "metadata": {},
   "outputs": [],
   "source": [
    "def calculate_distance(RA_i, DE_i, RA_j, DE_j):\n",
    "    return np.arccos(np.sin(DE_j)*np.sin(DE_i) + np.cos(DE_j)*np.cos(DE_i)*np.cos(RA_j-RA_i))"
   ]
  },
  {
   "cell_type": "code",
   "execution_count": 3,
   "metadata": {},
   "outputs": [],
   "source": [
    "def dist1(RA_i, DE_i, RA_j, DE_j):\n",
    "    return np.arccos((RA_i*RA_j+DE_i*DE_j)/(np.linalg.norm((RA_i, DE_i), 2)*np.linalg.norm((RA_j, DE_j), 2)))"
   ]
  },
  {
   "cell_type": "code",
   "execution_count": 4,
   "metadata": {},
   "outputs": [],
   "source": [
    "def to_radians(degrees):\n",
    "    for i in range(len(degrees)):\n",
    "        if not isinstance(degrees[i], float):\n",
    "            degrees[i] = to_radians(degrees[i])\n",
    "        else:\n",
    "            degrees[i] = math.radians(degrees[i])\n",
    "    return degrees"
   ]
  },
  {
   "cell_type": "code",
   "execution_count": 24,
   "metadata": {},
   "outputs": [],
   "source": [
    "# Create Feature Set\n",
    "def create_feature_set():\n",
    "    feature_set = [] # [(id(0), id(1)), theta < FOV]\n",
    "    #dtypes = [('id_0', int), ('id_1', int), ('theta', float)]\n",
    "    angle_catalog = []\n",
    "    stars = len(ids)\n",
    "    for i in range(stars):\n",
    "        for j in range(stars):\n",
    "            if i <= j:\n",
    "                continue\n",
    "            theta = np.abs(dist1(RAdeg[i], DEdeg[i], RAdeg[j], DEdeg[j]))\n",
    "            #theta = np.abs(calculate_distance(RAdeg[i], DEdeg[i], RAdeg[j], DEdeg[j]))\n",
    "            if theta <= FOV:\n",
    "                feature_set.append((ids[i], ids[j], theta))\n",
    "    #feature_set = np.array(feature_set, dtype=dtypes)\n",
    "    #feature_set = np.sort(feature_set, order='theta')[::-1]\n",
    "    return feature_set"
   ]
  },
  {
   "cell_type": "code",
   "execution_count": 6,
   "metadata": {},
   "outputs": [],
   "source": [
    "#check if star is in poles list\n",
    "def is_in(poles, RA, DE):\n",
    "    for pole in poles:\n",
    "        if pole[0] == RA and pole[1] == DE:\n",
    "            return True\n",
    "    return False"
   ]
  },
  {
   "cell_type": "code",
   "execution_count": 7,
   "metadata": {},
   "outputs": [],
   "source": [
    "#create pole set\n",
    "def get_candidate_poles(poles, a, pole_ids):\n",
    "    positions = camera.to_angles(scene.pos)\n",
    "    RA = positions[0]\n",
    "    DE = positions[1]\n",
    "    stars=[]\n",
    "    for i in range(len(RA)):\n",
    "        stars.append((RA[i], DE[i]))\n",
    "    #still in image space here because comparing to 'middle of image'\n",
    "    for i in range(len(scene.pos)):\n",
    "        star = scene.pos[i]\n",
    "        if star[0] < res_x-(res_x/a) and star[0] > res_x/a and star[1] < res_y-(res_y/a) and star[1] > res_y/a:\n",
    "            #then compare in angle space because that is what will be used majority of time\n",
    "            if not is_in(poles, RA[0], DE[0]):\n",
    "                poles.append((RA[0], DE[0]))\n",
    "                pole_ids.append(scene.ids[i])\n",
    "        RA = RA[1:]\n",
    "        DE = DE[1:]\n",
    "    return poles, pole_ids"
   ]
  },
  {
   "cell_type": "code",
   "execution_count": 25,
   "metadata": {},
   "outputs": [],
   "source": [
    "#Create neighbour set of first pole using angular distances\n",
    "\n",
    "def create_distance_set(stars, pole):\n",
    "    distances = []\n",
    "    for star in stars:\n",
    "        #distance = np.abs(dist1(star[0], star[1], pole[0], pole[1]))\n",
    "        distance = np.abs(calculate_distance(star[0], star[1], pole[0], pole[1]))\n",
    "        if distance != 0:\n",
    "            distances.append(distance)\n",
    "    return distances"
   ]
  },
  {
   "cell_type": "code",
   "execution_count": 220,
   "metadata": {},
   "outputs": [
    {
     "ename": "SyntaxError",
     "evalue": "invalid syntax (<ipython-input-220-77077de503ed>, line 3)",
     "output_type": "error",
     "traceback": [
      "\u001b[0;36m  File \u001b[0;32m\"<ipython-input-220-77077de503ed>\"\u001b[0;36m, line \u001b[0;32m3\u001b[0m\n\u001b[0;31m    while features[index]-distance\u001b[0m\n\u001b[0m                                  ^\u001b[0m\n\u001b[0;31mSyntaxError\u001b[0m\u001b[0;31m:\u001b[0m invalid syntax\n"
     ]
    }
   ],
   "source": [
    "def get_lower_pairs(features, index, distance, eps_pi):\n",
    "    pairs = []\n",
    "    while features[index]-distance"
   ]
  },
  {
   "cell_type": "code",
   "execution_count": 221,
   "metadata": {},
   "outputs": [
    {
     "name": "stdout",
     "output_type": "stream",
     "text": [
      "(array([0]),)\n",
      "0.12088175826852304\n",
      "(array([54377]),)\n",
      "5.523359547510154e-15\n"
     ]
    }
   ],
   "source": [
    "#features = np.flip(features)\n",
    "stars = star_set()\n",
    "distances = create_distance_set(stars, candidate_poles[0])\n",
    "a = features[:100000]\n",
    "b = [np.abs(np.subtract(a['theta'], distances[0]))][0]\n",
    "print(np.where(b == max(b)))\n",
    "print(max(b))\n",
    "print(np.where(b == min(b)))\n",
    "print(min(b))"
   ]
  },
  {
   "cell_type": "code",
   "execution_count": 223,
   "metadata": {},
   "outputs": [],
   "source": [
    "#Create pair list from catalog \n",
    "\n",
    "def create_pair_list(features, distances, eps_pi):\n",
    "    start = time.time()\n",
    "    pairs = []\n",
    "    a = 0\n",
    "    for distance in distances:\n",
    "        print(a)\n",
    "        a += 1\n",
    "        dist_diff = [np.abs(np.subtract(i, distance)) for i in features[\"theta\"]]\n",
    "        \n",
    "        #feat_copy = copy.deepcopy(features)\n",
    "        #feat_copy['theta'] = [np.abs(np.subtract(i, distance)) for i in features['theta']]\n",
    "        #feat_copy = np.sort(feat_copy, order='theta')\n",
    "        #print(feat_copy[:2]['theta'])\n",
    "        #i = 0\n",
    "        #while feat_copy[i]['theta'] <= eps_pi:\n",
    "        #    pairs.append((feat_copy[i]['id_0'], feat_copy[i]['id_1']))\n",
    "        #    i += 1\n",
    "    end = time.time()\n",
    "    total_time = end - start\n",
    "    print(\"\\n\"+ str(total_time))\n",
    "    return pairs\n",
    "#f = create_feature_set()\n",
    "#pole_i, neighbours_i = acceptance_phase(f, candidate_poles[0], eps_pi)"
   ]
  },
  {
   "cell_type": "code",
   "execution_count": 124,
   "metadata": {},
   "outputs": [],
   "source": [
    "#Create pair list from catalog \n",
    "\n",
    "#def create_pair_list(feature_set, distances, eps_pi):\n",
    "#    pairs = []\n",
    "#    pairs_free = []\n",
    "#    step = 500\n",
    "\n",
    "#    for distance in distances:\n",
    "#        this_val = 0\n",
    "#        upper_bound = -1\n",
    "#        lower_bound = -1\n",
    "#        pairs.append([])\n",
    "#        for i in range(0, len(feature_set), step):\n",
    "#            dist_diff = feature_set[i][2] - distance\n",
    "#            if np.abs(dist_diff) <= eps_pi:\n",
    "#                if dist_diff > 0:\n",
    "#                    upper_bound = i\n",
    "#                else:\n",
    "#                    lower_bound = i\n",
    "#            else:\n",
    "#                this_val = 1\n",
    "            \n",
    "#            if upper_bound != -1 and this_val != 0:\n",
    "#                break\n",
    "#        for i in range(lower_bound, upper_bound):\n",
    "#            pairs[-1].append((feature_set[i][0], feature_set[i][1]))\n",
    "#            pairs_free.append((feature_set[i][0], feature_set[i][1]))\n",
    "#        i = 1\n",
    "#        while np.abs(feature_set[lower_bound-i][2] - distance) <= eps_pi:\n",
    "#            pairs[-1].append((feature_set[lower_bound-i][0], feature_set[lower_bound-i][1]))\n",
    "#            pairs_free.append((feature_set[lower_bound-i][0], feature_set[lower_bound-i][1]))\n",
    "#            i += 1\n",
    "#        i = 1\n",
    "#        while np.abs(feature_set[upper_bound-i][2] - distance) <= eps_pi:\n",
    "#            pairs[-1].append((feature_set[upper_bound-i][0], feature_set[upper_bound-i][1]))\n",
    "#            pairs_free.append((feature_set[upper_bound-i][0], feature_set[upper_bound-i][1]))\n",
    "#            i += 1\n",
    "        #print(feature_set[lower_bound][0], feature_set[lower_bound][1], feature_set[upper_bound][0], feature_set[upper_bound][1])\n",
    "        #print(lower_bound, upper_bound)\n",
    "#    return pairs, pairs_free"
   ]
  },
  {
   "cell_type": "code",
   "execution_count": 9,
   "metadata": {},
   "outputs": [],
   "source": [
    "def create_pair_list_long(feature_set, distances, eps_pi):\n",
    "    pairs = []\n",
    "    gt_count = 0\n",
    "    for distance in distances:\n",
    "        for i in range(len(feature_set)):\n",
    "            dist_diff = feature_set[i][2] - distance\n",
    "            if np.abs(dist_diff) <= eps_pi:\n",
    "                pairs.append((feature_set[i][0], feature_set[i][1]))\n",
    "    return pairs"
   ]
  },
  {
   "cell_type": "code",
   "execution_count": 31,
   "metadata": {},
   "outputs": [],
   "source": [
    "#pole is one that occurs most in list\n",
    "\n",
    "def find_pole_in_pairs(pair_list):\n",
    "    counts = {}\n",
    "    for pair in pair_list:\n",
    "        for star in pair:\n",
    "            if star in counts:\n",
    "                counts[star] += 1\n",
    "            else:\n",
    "                counts[star] = 1\n",
    "    max_count = max(list(counts.values()))\n",
    "    #DO THIS\n",
    "    position = list(counts.values()).index(max_count)\n",
    "    return list(counts.keys())[position], max_count"
   ]
  },
  {
   "cell_type": "code",
   "execution_count": 11,
   "metadata": {},
   "outputs": [],
   "source": [
    "# neighbours are all stars paired with pole\n",
    "\n",
    "def create_neighbour_set(pairs, pole):\n",
    "    pole_neighbours = []\n",
    "    for pair in pairs:\n",
    "        if pair[0] == pole:\n",
    "            pole_neighbours.append(pair[1])\n",
    "        elif pair[1] == pole:\n",
    "            pole_neighbours.append(pair[0])\n",
    "    return np.unique(np.array(pole_neighbours)).tolist()"
   ]
  },
  {
   "cell_type": "code",
   "execution_count": 12,
   "metadata": {},
   "outputs": [],
   "source": [
    "#create set of stars in scene in RA,DE\n",
    "def star_set():\n",
    "    stars = []\n",
    "    positions = camera.to_angles(scene.pos)\n",
    "    RA = positions[0]\n",
    "    DE = positions[1]\n",
    "    for i in range(len(RA)):\n",
    "        stars.append((RA[i], DE[i]))\n",
    "    return stars"
   ]
  },
  {
   "cell_type": "code",
   "execution_count": 28,
   "metadata": {},
   "outputs": [],
   "source": [
    "def acceptance_phase(features, candidate_pole, eps_pi):\n",
    "    #a = [(np.where(ids == i)[0][0]) for i in scene.ids]\n",
    "    #c_ra = np.array([[RAdeg[i] for i in a]])\n",
    "    #c_de = np.array([[DEdeg[i] for i in a]])\n",
    "    #confirmation = np.concatenate((c_ra.T, c_de.T), axis=1)\n",
    "    #this_index = [a.index(i) for i in a if ids[i] == pole_ids[-1]][0]\n",
    "    stars = star_set()\n",
    "    distances = create_distance_set(stars, candidate_pole)\n",
    "    #c_dist = create_distance_set(confirmation, confirmation[this_index]) #good\n",
    "    ##pairs = create_pair_list(features, distances, eps_pi)\n",
    "    pairs = create_pair_list_long(features, distances, eps_pi)\n",
    "    print(\"pair list length\", len(pairs))\n",
    "    pole, count = find_pole_in_pairs(pairs)\n",
    "    print(\"pole found and count\", pole, count)\n",
    "    neighbours = create_neighbour_set(pairs, pole)\n",
    "    print(\"neighbour set length\", len(neighbours))\n",
    "    \n",
    "    return pole, neighbours\n",
    "#acceptance_phase(features, candidate_poles[-1], eps_pi)"
   ]
  },
  {
   "cell_type": "code",
   "execution_count": 14,
   "metadata": {},
   "outputs": [],
   "source": [
    "def intersection(set_1, set_2):\n",
    "    #make intersection be [(coordx, coordy), id]\n",
    "    intersection = [star for star in set_1 if star in set_2]\n",
    "    return intersection"
   ]
  },
  {
   "cell_type": "code",
   "execution_count": 32,
   "metadata": {},
   "outputs": [
    {
     "name": "stdout",
     "output_type": "stream",
     "text": [
      "ground truth id 80953\n",
      "pole catalog location 3499\n",
      "pair list length 6633\n",
      "pole found and count 80953 15\n",
      "neighbour set length 13\n",
      "calculated id 80953\n",
      "\n",
      "197.56175327301025\n"
     ]
    }
   ],
   "source": [
    "#MPA Algorithm\n",
    "start = time.time()\n",
    "\n",
    "intersect = 0\n",
    "this_pole = 0\n",
    "\n",
    "FOV = 10\n",
    "catalog = StarCatalog()\n",
    "ids = catalog.catalog.HIP.values.tolist()\n",
    "RAdeg = to_radians(catalog.catalog.RAdeg.tolist())\n",
    "DEdeg = to_radians(catalog.catalog.DEdeg.tolist())\n",
    "eps_pi = 0.0005\n",
    "candidate_poles = []\n",
    "pole_ids = []\n",
    "reduction = 4\n",
    "required_poles = 3\n",
    "while len(candidate_poles) < required_poles:\n",
    "    candidate_poles, pole_ids = get_candidate_poles(candidate_poles, reduction, pole_ids)\n",
    "    reduction += 1\n",
    "\n",
    "#testing stuff\n",
    "#get catalog position of each star in scene\n",
    "a = [(np.where(ids == i)[0][0]) for i in scene.ids]\n",
    "c_ra = np.array([[RAdeg[i] for i in a]])\n",
    "c_de = np.array([[DEdeg[i] for i in a]])\n",
    "confirmation = np.concatenate((c_ra.T, c_de.T), axis=1)\n",
    "this_index = [a.index(i) for i in a if ids[i] == pole_ids[-1]][0]\n",
    "\n",
    "\n",
    "#features = create_feature_set()\n",
    "#print(features.shape)\n",
    "def main():\n",
    "    N = len(candidate_poles)-1\n",
    "    print(\"ground truth id\", pole_ids[N])\n",
    "    print(\"pole catalog location\", np.where(ids == pole_ids[N])[0][0])\n",
    "    pole_i, neighbours_i = acceptance_phase(features, candidate_poles[N], eps_pi)\n",
    "    print(\"calculated id\", pole_i)\n",
    "    return\n",
    "    u = False\n",
    "    w = False\n",
    "    j = N-1\n",
    "    th = len(neighbours_i)-2\n",
    "    while (u==0 or w==0) and j >= 0:\n",
    "        pole_j, neighbours_j = acceptance_phase(candidate_poles[j], eps_pi)\n",
    "        #print(pole_j, pole_i)\n",
    "        u = (pole_i in neighbours_j) and (pole_j in neighbours_i)\n",
    "        if u != 0:\n",
    "            V = intersection(neighbours_i, neighbours_j)\n",
    "            w = len(V) >= th\n",
    "        print(len(V))\n",
    "        print(\"pole in other set?\", u, \"intersection length?\", w)\n",
    "        j -= 1\n",
    "    if u and w:\n",
    "        intersect = V\n",
    "        this_pole = pole_i\n",
    "        confirmation_phase(V, pole_i)\n",
    "        \n",
    "\n",
    "    print(u, w, j)\n",
    "    return 1\n",
    "\n",
    "main()\n",
    "\n",
    "end = time.time()\n",
    "total_time = end - start\n",
    "print(\"\\n\"+ str(total_time))"
   ]
  },
  {
   "cell_type": "code",
   "execution_count": 168,
   "metadata": {},
   "outputs": [],
   "source": [
    "features = create_feature_set()"
   ]
  },
  {
   "cell_type": "code",
   "execution_count": 210,
   "metadata": {},
   "outputs": [
    {
     "name": "stdout",
     "output_type": "stream",
     "text": [
      "[3 6 3 3 0]\n"
     ]
    }
   ],
   "source": [
    "#feat_copy = copy.deepcopy(features)\n",
    "a = [(5,1,3), (4,2,-1), (3,3,0), (2,4,1), (1,5,4)]\n",
    "b = np.array([[1,2,3], [4,5,6], [-1,2,3], [1,-2,3], [0,0,0]])\n",
    "print(b[:,2])\n",
    "\n",
    "#print(np.add(a,b))\n",
    "#print(np.argmin(np.abs(np.add(a,b)), axis=0))\n",
    "#b = np.argmin(np.abs(np.add(features, distances[0]), axis=0)\n",
    "\n",
    "#print(min(feat_copy, key=lambda feat_copy:feat_copy[2]))"
   ]
  },
  {
   "cell_type": "code",
   "execution_count": 210,
   "metadata": {},
   "outputs": [
    {
     "name": "stdout",
     "output_type": "stream",
     "text": [
      "<class 'numpy.ndarray'>\n",
      "c [5.11615137 1.48865144]\n",
      "v [6.07441194 1.51143044]\n",
      "0.039285788014714225\n"
     ]
    }
   ],
   "source": [
    "def confirmation_phase(intersection, pole):\n",
    "    print(type(intersection))\n",
    "    verified = intersection\n",
    "    confirmed = pole\n",
    "    print(\"c\", confirmed)\n",
    "    print(\"v\", verified)\n",
    "    displacement = np.arccos(np.dot(confirmed,verified)/(np.linalg.norm(confirmed)*np.linalg.norm(verified)))\n",
    "    print(displacement)\n",
    "\n",
    "intersect = np.array(stars[2])\n",
    "this_pole = np.array(stars[1])\n",
    "confirmation_phase(intersect, this_pole)"
   ]
  }
 ],
 "metadata": {
  "kernelspec": {
   "display_name": "Python 3",
   "language": "python",
   "name": "python3"
  },
  "language_info": {
   "codemirror_mode": {
    "name": "ipython",
    "version": 3
   },
   "file_extension": ".py",
   "mimetype": "text/x-python",
   "name": "python",
   "nbconvert_exporter": "python",
   "pygments_lexer": "ipython3",
   "version": "3.8.5"
  }
 },
 "nbformat": 4,
 "nbformat_minor": 4
}
