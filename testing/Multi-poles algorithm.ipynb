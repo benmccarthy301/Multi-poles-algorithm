{
 "cells": [
  {
   "cell_type": "code",
   "execution_count": 357,
   "metadata": {},
   "outputs": [],
   "source": [
    "#imports\n",
    "import numpy as np\n",
    "import math\n",
    "from PIL import Image, ImageOps\n",
    "import io\n",
    "import cv2\n",
    "from scipy import stats\n",
    "import copy\n",
    "import time\n",
    "import random\n",
    "import os\n",
    "from star_data_generator import *"
   ]
  },
  {
   "cell_type": "code",
   "execution_count": 234,
   "metadata": {},
   "outputs": [],
   "source": [
    "def calculate_distance(star_i, star_j):\n",
    "    return np.arccos(np.sin(star_j[1])*np.sin(star_i[1]) + np.cos(star_j[1])*np.cos(star_i[1])*np.cos(star_j[0]-star_i[0]))\n"
   ]
  },
  {
   "cell_type": "code",
   "execution_count": 259,
   "metadata": {},
   "outputs": [],
   "source": [
    "#cartesian coordinates\n",
    "def dist1(star_i, star_j):\n",
    "    return np.arccos((np.dot(star_i, star_j)))"
   ]
  },
  {
   "cell_type": "code",
   "execution_count": 236,
   "metadata": {},
   "outputs": [],
   "source": [
    "def to_radians(degrees):\n",
    "    for i in range(len(degrees)):\n",
    "        if not isinstance(degrees[i], float):\n",
    "            degrees[i] = to_radians(degrees[i])\n",
    "        else:\n",
    "            degrees[i] = math.radians(degrees[i])\n",
    "    return degrees"
   ]
  },
  {
   "cell_type": "code",
   "execution_count": 485,
   "metadata": {},
   "outputs": [],
   "source": [
    "# Create Feature Set\n",
    "def create_feature_set(catalog, FOV):\n",
    "    feature_set = [] # [(id(0), id(1)), theta < FOV]\n",
    "    for i in range(len(catalog)):\n",
    "        for j in range(i+1, len(catalog)):\n",
    "            theta = dist1(catalog[i], catalog[j])\n",
    "            #theta = np.abs(calculate_distance(catalog[i], catalog[j]))\n",
    "            if theta <= FOV:\n",
    "                feature_set.append((i, j, theta))\n",
    "    return feature_set"
   ]
  },
  {
   "cell_type": "code",
   "execution_count": 238,
   "metadata": {},
   "outputs": [],
   "source": [
    "#check if star is in poles list\n",
    "def is_same(star, pole):\n",
    "    print(star, pole)\n",
    "    return star[0] == pole[0] and star[1] == pole[1]"
   ]
  },
  {
   "cell_type": "code",
   "execution_count": 486,
   "metadata": {},
   "outputs": [],
   "source": [
    "#Create neighbour set of first pole using angular distances\n",
    "def create_distance_set(stars, pole):\n",
    "    return [dist1(star, pole) for star in stars]\n",
    "    #return [np.abs(calculate_distance(star, pole)) for star in stars]"
   ]
  },
  {
   "cell_type": "code",
   "execution_count": 497,
   "metadata": {},
   "outputs": [],
   "source": [
    "def create_pair_list_long(feature_set, distances, eps_pi):\n",
    "    pairs = []\n",
    "    for distance in distances:\n",
    "        for i in range(len(feature_set)):\n",
    "            if np.abs(feature_set[i][2] - distance) <= eps_pi:\n",
    "                pairs.append((feature_set[i][0], feature_set[i][1]))\n",
    "    return pairs"
   ]
  },
  {
   "cell_type": "code",
   "execution_count": 511,
   "metadata": {},
   "outputs": [
    {
     "data": {
      "text/plain": [
       "'import statistics\\nfrom statistics import mode\\ndef find_pole_in_pairs(pairs):\\n    pairs = [ID for pair in pairs for ID in pair]\\n    return mode(pairs)\\n\\nprint(find_pole_in_pairs([[1, 3], [1, 3]]))'"
      ]
     },
     "execution_count": 511,
     "metadata": {},
     "output_type": "execute_result"
    }
   ],
   "source": [
    "#pole is one that occurs most in list\n",
    "\n",
    "def find_pole_in_pairs(pair_list):\n",
    "    counts = {}\n",
    "    for pair in pair_list:\n",
    "        for star in pair:\n",
    "            if star in counts:\n",
    "                counts[star] += 1\n",
    "            else:\n",
    "                counts[star] = 1\n",
    "    max_count = max(list(counts.values()))\n",
    "    position = list(counts.values()).index(max_count)\n",
    "    return list(counts.keys())[position]\n",
    "\n",
    "\"\"\"import statistics\n",
    "from statistics import mode\n",
    "def find_pole_in_pairs(pairs):\n",
    "    pairs = [ID for pair in pairs for ID in pair]\n",
    "    return mode(pairs)\n",
    "\n",
    "print(find_pole_in_pairs([[1, 3], [1, 3]]))\"\"\""
   ]
  },
  {
   "cell_type": "code",
   "execution_count": 244,
   "metadata": {},
   "outputs": [],
   "source": [
    "# neighbours are all stars paired with pole\n",
    "\n",
    "def create_neighbour_set(pairs, pole):\n",
    "    pole_neighbours = []\n",
    "    for pair in pairs:\n",
    "        if pair[0] == pole:\n",
    "            pole_neighbours.append(pair[1])\n",
    "        elif pair[1] == pole:\n",
    "            pole_neighbours.append(pair[0])\n",
    "    return np.unique(np.array(pole_neighbours)).tolist()\n",
    "\n",
    "def create_neighbour_id_set(pairs, pole):\n",
    "    return [ID for pair in pairs for ID in pair if pole in pair and ID != pole]"
   ]
  },
  {
   "cell_type": "code",
   "execution_count": 245,
   "metadata": {},
   "outputs": [],
   "source": [
    "def intersection(set_1, set_2):\n",
    "    intersection = [star for star in set_1 if star in set_2]\n",
    "    return intersection"
   ]
  },
  {
   "cell_type": "code",
   "execution_count": 487,
   "metadata": {},
   "outputs": [],
   "source": [
    "def initialise(stars, ids, num_poles):\n",
    "    distance = []\n",
    "    for i in range(len(stars)):\n",
    "        distance.append((stars[i], dist1(stars[i], [0.5, 0.5, 0.5]), ids[i]))\n",
    "        #distance.append([calculate_distance(stars[i], [512, 512]), ids[i]])\n",
    "    distance = np.array(list(distance), dtype=[('position', object), ('distance', object), ('id', object)])\n",
    "    distance = np.sort(distance, order='distance')\n",
    "    return distance[:num_poles]"
   ]
  },
  {
   "cell_type": "code",
   "execution_count": 520,
   "metadata": {},
   "outputs": [],
   "source": [
    "#returns intersection list if u and w true, else returns 0\n",
    "def verification_phase(pole_i, neighbours_i, pole_j, neighbours_j):\n",
    "    th = 3\n",
    "    u = (pole_i in neighbours_j) and (pole_j in neighbours_i)\n",
    "    if u:\n",
    "        V = intersection(neighbours_i, neighbours_j)\n",
    "        w = len(V) >= th\n",
    "        if w:\n",
    "            V.append(pole_j)\n",
    "            return V\n",
    "    return False"
   ]
  },
  {
   "cell_type": "code",
   "execution_count": 522,
   "metadata": {},
   "outputs": [],
   "source": [
    "def confirmation_phase(verified, confirmed, features):\n",
    "    print(verified)\n",
    "    if len(verified) == 0:\n",
    "        return confirmed\n",
    "    v = verified[0]\n",
    "    verified = verified[1:]\n",
    "    verified_pos = [RA[ids.index(v)], DE[ids.index(v)]]\n",
    "    confirmed_pos = [RA[ids.index(confirmed[-1])], DE[ids.index(confirmed[-1])]]\n",
    "    displacement = dist1(verified_pos, confirmed_pos)\n",
    "    #displacement = np.abs(calculate_distance(verified_pos, confirmed_pos))\n",
    "    confirmed_features = [feature for feature in features if confirmed[-1] in feature]\n",
    "    pairs = create_pair_list_long(confirmed_features, [displacement], eps_pi)\n",
    "    pairs = [pair for pair in pairs if v in pair]\n",
    "    if len(pairs) == 0:\n",
    "        print(v, \"not found\")\n",
    "        return confirmation_phase(verified, confirmed, features)\n",
    "    else:\n",
    "        confirmed.append(v)\n",
    "        return confirmation_phase(verified, confirmed, features)"
   ]
  },
  {
   "cell_type": "code",
   "execution_count": 506,
   "metadata": {},
   "outputs": [],
   "source": [
    "#returns pole and neighbour ids\n",
    "def acceptance_phase(stars, features, candidate_pole, eps_pi):\n",
    "    print(\"stars\", len(stars))\n",
    "    distances = create_distance_set(stars, candidate_pole)\n",
    "    print(\"distance\", len(distances))\n",
    "    pairs = create_pair_list_long(features, distances, eps_pi)\n",
    "    print(\"pairs\", len(pairs))\n",
    "    pole = find_pole_in_pairs(pairs)\n",
    "    print(\"pole\", pole)\n",
    "    neighbours = create_neighbour_set(pairs, pole)\n",
    "    \n",
    "    return pole, neighbours, pairs\n",
    "\n",
    "def acceptance_phase_1(stars, features, candidate_pole, eps_pi):\n",
    "    print(len(stars), \"stars\")\n",
    "    neighbours = [star for star in stars if not is_same(star, candidate_pole)]\n",
    "    print(len(neighbours), \"neighbours\")\n",
    "    #stars = [dist1(neighbour, candidate_pole) for neighbour in neighbours]\n",
    "    stars = [np.abs(calculate_distance(neighbour, candidate_pole)) for neighbour in neighbours]\n",
    "    print(len(stars), \"distancess\")"
   ]
  },
  {
   "cell_type": "code",
   "execution_count": 518,
   "metadata": {},
   "outputs": [],
   "source": [
    "def recursive_MPA(stars, pole_i, neighbours_i, candidate_poles, N, features):\n",
    "    u, w = False, False\n",
    "    pole_j, neighbours_j, pairs = acceptance_phase(stars, features, candidate_poles['position'][N], eps_pi)\n",
    "    print(\"ground truth\", ids)\n",
    "    print(\"ground truth id\", candidate_poles['id'][N])\n",
    "    print(pole_j, neighbours_j)\n",
    "    verified = verification_phase(pole_i, neighbours_i, pole_j, neighbours_j)\n",
    "    print(verified)\n",
    "    if verified != False:\n",
    "        return confirmation_phase(verified, [pole_i], features)\n",
    "    if N == 0:\n",
    "        return 0\n",
    "    return recursive_MPA(stars, pole_i, neighbours_i, candidate_poles, N-1, features)\n"
   ]
  },
  {
   "cell_type": "code",
   "execution_count": 523,
   "metadata": {},
   "outputs": [
    {
     "name": "stdout",
     "output_type": "stream",
     "text": [
      "stars 10\n",
      "distance 10\n",
      "pairs 1497\n",
      "pole 2156\n",
      "ground truth [2199, 2224, 2156, 2219, 2277, 2067, 2145, 2158, 2121, 2170]\n",
      "ground truth id 2156\n",
      "recursive\n",
      "stars 10\n",
      "distance 10\n",
      "pairs 1278\n",
      "pole 2465\n",
      "ground truth [2199, 2224, 2156, 2219, 2277, 2067, 2145, 2158, 2121, 2170]\n",
      "ground truth id 2199\n",
      "2465 [2276, 2356, 2363, 2377, 2439, 2617]\n",
      "False\n",
      "stars 10\n",
      "distance 10\n",
      "pairs 1799\n",
      "pole 2224\n",
      "ground truth [2199, 2224, 2156, 2219, 2277, 2067, 2145, 2158, 2121, 2170]\n",
      "ground truth id 2224\n",
      "2224 [2067, 2145, 2156, 2158, 2186, 2199]\n",
      "[2067, 2145, 2199, 2224]\n",
      "[2067, 2145, 2199, 2224]\n"
     ]
    },
    {
     "ename": "NameError",
     "evalue": "name 'RA' is not defined",
     "output_type": "error",
     "traceback": [
      "\u001b[0;31m---------------------------------------------------------------------------\u001b[0m",
      "\u001b[0;31mNameError\u001b[0m                                 Traceback (most recent call last)",
      "\u001b[0;32m<ipython-input-523-304d4a192b75>\u001b[0m in \u001b[0;36m<module>\u001b[0;34m\u001b[0m\n\u001b[1;32m     43\u001b[0m     \u001b[0mprint\u001b[0m\u001b[0;34m(\u001b[0m\u001b[0;34m\"ground truth id\"\u001b[0m\u001b[0;34m,\u001b[0m \u001b[0mcandidate_poles\u001b[0m\u001b[0;34m[\u001b[0m\u001b[0;34m'id'\u001b[0m\u001b[0;34m]\u001b[0m\u001b[0;34m[\u001b[0m\u001b[0mN\u001b[0m\u001b[0;34m]\u001b[0m\u001b[0;34m)\u001b[0m\u001b[0;34m\u001b[0m\u001b[0;34m\u001b[0m\u001b[0m\n\u001b[1;32m     44\u001b[0m     \u001b[0mprint\u001b[0m\u001b[0;34m(\u001b[0m\u001b[0;34m\"recursive\"\u001b[0m\u001b[0;34m)\u001b[0m\u001b[0;34m\u001b[0m\u001b[0;34m\u001b[0m\u001b[0m\n\u001b[0;32m---> 45\u001b[0;31m     chain_set = recursive_MPA(stars,\n\u001b[0m\u001b[1;32m     46\u001b[0m                         \u001b[0mpole_i\u001b[0m\u001b[0;34m,\u001b[0m \u001b[0;31m#first pole\u001b[0m\u001b[0;34m\u001b[0m\u001b[0;34m\u001b[0m\u001b[0m\n\u001b[1;32m     47\u001b[0m                         \u001b[0mneighbours_i\u001b[0m\u001b[0;34m,\u001b[0m \u001b[0;31m#first pole's neighbours\u001b[0m\u001b[0;34m\u001b[0m\u001b[0;34m\u001b[0m\u001b[0m\n",
      "\u001b[0;32m<ipython-input-518-e4c4fc991a20>\u001b[0m in \u001b[0;36mrecursive_MPA\u001b[0;34m(stars, pole_i, neighbours_i, candidate_poles, N, features)\u001b[0m\n\u001b[1;32m     11\u001b[0m     \u001b[0;32mif\u001b[0m \u001b[0mN\u001b[0m \u001b[0;34m==\u001b[0m \u001b[0;36m0\u001b[0m\u001b[0;34m:\u001b[0m\u001b[0;34m\u001b[0m\u001b[0;34m\u001b[0m\u001b[0m\n\u001b[1;32m     12\u001b[0m         \u001b[0;32mreturn\u001b[0m \u001b[0;36m0\u001b[0m\u001b[0;34m\u001b[0m\u001b[0;34m\u001b[0m\u001b[0m\n\u001b[0;32m---> 13\u001b[0;31m     \u001b[0;32mreturn\u001b[0m \u001b[0mrecursive_MPA\u001b[0m\u001b[0;34m(\u001b[0m\u001b[0mstars\u001b[0m\u001b[0;34m,\u001b[0m \u001b[0mpole_i\u001b[0m\u001b[0;34m,\u001b[0m \u001b[0mneighbours_i\u001b[0m\u001b[0;34m,\u001b[0m \u001b[0mcandidate_poles\u001b[0m\u001b[0;34m,\u001b[0m \u001b[0mN\u001b[0m\u001b[0;34m-\u001b[0m\u001b[0;36m1\u001b[0m\u001b[0;34m,\u001b[0m \u001b[0mfeatures\u001b[0m\u001b[0;34m)\u001b[0m\u001b[0;34m\u001b[0m\u001b[0;34m\u001b[0m\u001b[0m\n\u001b[0m",
      "\u001b[0;32m<ipython-input-518-e4c4fc991a20>\u001b[0m in \u001b[0;36mrecursive_MPA\u001b[0;34m(stars, pole_i, neighbours_i, candidate_poles, N, features)\u001b[0m\n\u001b[1;32m      8\u001b[0m     \u001b[0mprint\u001b[0m\u001b[0;34m(\u001b[0m\u001b[0mverified\u001b[0m\u001b[0;34m)\u001b[0m\u001b[0;34m\u001b[0m\u001b[0;34m\u001b[0m\u001b[0m\n\u001b[1;32m      9\u001b[0m     \u001b[0;32mif\u001b[0m \u001b[0mverified\u001b[0m \u001b[0;34m!=\u001b[0m \u001b[0;32mFalse\u001b[0m\u001b[0;34m:\u001b[0m\u001b[0;34m\u001b[0m\u001b[0;34m\u001b[0m\u001b[0m\n\u001b[0;32m---> 10\u001b[0;31m         \u001b[0;32mreturn\u001b[0m \u001b[0mconfirmation_phase\u001b[0m\u001b[0;34m(\u001b[0m\u001b[0mverified\u001b[0m\u001b[0;34m,\u001b[0m \u001b[0;34m[\u001b[0m\u001b[0mpole_i\u001b[0m\u001b[0;34m]\u001b[0m\u001b[0;34m,\u001b[0m \u001b[0mfeatures\u001b[0m\u001b[0;34m)\u001b[0m\u001b[0;34m\u001b[0m\u001b[0;34m\u001b[0m\u001b[0m\n\u001b[0m\u001b[1;32m     11\u001b[0m     \u001b[0;32mif\u001b[0m \u001b[0mN\u001b[0m \u001b[0;34m==\u001b[0m \u001b[0;36m0\u001b[0m\u001b[0;34m:\u001b[0m\u001b[0;34m\u001b[0m\u001b[0;34m\u001b[0m\u001b[0m\n\u001b[1;32m     12\u001b[0m         \u001b[0;32mreturn\u001b[0m \u001b[0;36m0\u001b[0m\u001b[0;34m\u001b[0m\u001b[0;34m\u001b[0m\u001b[0m\n",
      "\u001b[0;32m<ipython-input-522-ea30af39e2d2>\u001b[0m in \u001b[0;36mconfirmation_phase\u001b[0;34m(verified, confirmed, features)\u001b[0m\n\u001b[1;32m      5\u001b[0m     \u001b[0mv\u001b[0m \u001b[0;34m=\u001b[0m \u001b[0mverified\u001b[0m\u001b[0;34m[\u001b[0m\u001b[0;36m0\u001b[0m\u001b[0;34m]\u001b[0m\u001b[0;34m\u001b[0m\u001b[0;34m\u001b[0m\u001b[0m\n\u001b[1;32m      6\u001b[0m     \u001b[0mverified\u001b[0m \u001b[0;34m=\u001b[0m \u001b[0mverified\u001b[0m\u001b[0;34m[\u001b[0m\u001b[0;36m1\u001b[0m\u001b[0;34m:\u001b[0m\u001b[0;34m]\u001b[0m\u001b[0;34m\u001b[0m\u001b[0;34m\u001b[0m\u001b[0m\n\u001b[0;32m----> 7\u001b[0;31m     \u001b[0mverified_pos\u001b[0m \u001b[0;34m=\u001b[0m \u001b[0;34m[\u001b[0m\u001b[0mRA\u001b[0m\u001b[0;34m[\u001b[0m\u001b[0mids\u001b[0m\u001b[0;34m.\u001b[0m\u001b[0mindex\u001b[0m\u001b[0;34m(\u001b[0m\u001b[0mv\u001b[0m\u001b[0;34m)\u001b[0m\u001b[0;34m]\u001b[0m\u001b[0;34m,\u001b[0m \u001b[0mDE\u001b[0m\u001b[0;34m[\u001b[0m\u001b[0mids\u001b[0m\u001b[0;34m.\u001b[0m\u001b[0mindex\u001b[0m\u001b[0;34m(\u001b[0m\u001b[0mv\u001b[0m\u001b[0;34m)\u001b[0m\u001b[0;34m]\u001b[0m\u001b[0;34m]\u001b[0m\u001b[0;34m\u001b[0m\u001b[0;34m\u001b[0m\u001b[0m\n\u001b[0m\u001b[1;32m      8\u001b[0m     \u001b[0mconfirmed_pos\u001b[0m \u001b[0;34m=\u001b[0m \u001b[0;34m[\u001b[0m\u001b[0mRA\u001b[0m\u001b[0;34m[\u001b[0m\u001b[0mids\u001b[0m\u001b[0;34m.\u001b[0m\u001b[0mindex\u001b[0m\u001b[0;34m(\u001b[0m\u001b[0mconfirmed\u001b[0m\u001b[0;34m[\u001b[0m\u001b[0;34m-\u001b[0m\u001b[0;36m1\u001b[0m\u001b[0;34m]\u001b[0m\u001b[0;34m)\u001b[0m\u001b[0;34m]\u001b[0m\u001b[0;34m,\u001b[0m \u001b[0mDE\u001b[0m\u001b[0;34m[\u001b[0m\u001b[0mids\u001b[0m\u001b[0;34m.\u001b[0m\u001b[0mindex\u001b[0m\u001b[0;34m(\u001b[0m\u001b[0mconfirmed\u001b[0m\u001b[0;34m[\u001b[0m\u001b[0;34m-\u001b[0m\u001b[0;36m1\u001b[0m\u001b[0;34m]\u001b[0m\u001b[0;34m)\u001b[0m\u001b[0;34m]\u001b[0m\u001b[0;34m]\u001b[0m\u001b[0;34m\u001b[0m\u001b[0;34m\u001b[0m\u001b[0m\n\u001b[1;32m      9\u001b[0m     \u001b[0mdisplacement\u001b[0m \u001b[0;34m=\u001b[0m \u001b[0mdist1\u001b[0m\u001b[0;34m(\u001b[0m\u001b[0mverified_pos\u001b[0m\u001b[0;34m,\u001b[0m \u001b[0mconfirmed_pos\u001b[0m\u001b[0;34m)\u001b[0m\u001b[0;34m\u001b[0m\u001b[0;34m\u001b[0m\u001b[0m\n",
      "\u001b[0;31mNameError\u001b[0m: name 'RA' is not defined"
     ]
    }
   ],
   "source": [
    "def image_to_ra_de(coords):\n",
    "    x, y, z = coords[0], coords[1], coords[2]\n",
    "    ra = np.arctan2(y, x)\n",
    "    de = np.arcsin(z)\n",
    "    return np.array([ra, de])\n",
    "\n",
    "def get_data_from_file(file):\n",
    "    catalog = []\n",
    "    for line in file:\n",
    "        line = list(map(float, line.split()))\n",
    "        line = line/np.linalg.norm(line)\n",
    "        catalog.append(line)\n",
    "        #catalog.append(image_to_ra_de(line))\n",
    "    return np.array(catalog)\n",
    "\n",
    "FOV = np.deg2rad(12)\n",
    "eps_pi = 0.0001\n",
    "\n",
    "#file = open(\"HIP_catalog_vectors_with_mag_less_than_6\", \"r\")\n",
    "#catalog = get_data_from_file(file)\n",
    "#features = create_feature_set(catalog, FOV)\n",
    "\n",
    "data = (os.listdir('data'))\n",
    "for i in range(1):\n",
    "    stars = []\n",
    "    #if data[i][0] == 's':\n",
    "    #number = data[i][6:]\n",
    "    number = '0'\n",
    "    file = open(\"data/stars_\" + number)\n",
    "    stars = get_data_from_file(file)\n",
    "    file = open(\"data/id_\" + number)\n",
    "    ids = []\n",
    "    for line in file:\n",
    "        ids.append(int(line))\n",
    "    candidate_poles = initialise(stars, ids, int(len(ids)/2))\n",
    "    N = len(candidate_poles)-1\n",
    "    pole_i, neighbours_i, pairs = acceptance_phase(stars, \n",
    "                                        features, \n",
    "                                        candidate_poles['position'][N], \n",
    "                                        eps_pi)\n",
    "    \n",
    "    print(\"ground truth\", ids)\n",
    "    print(\"ground truth id\", candidate_poles['id'][N])\n",
    "    print(\"recursive\")\n",
    "    chain_set = recursive_MPA(stars,\n",
    "                        pole_i, #first pole\n",
    "                        neighbours_i, #first pole's neighbours\n",
    "                        candidate_poles, #rest of poles\n",
    "                        N-1, #j-th index\n",
    "                        features) #[id0, id1, theta]\n",
    "    print(pole_i, neighbours_i)\n"
   ]
  },
  {
   "cell_type": "code",
   "execution_count": 492,
   "metadata": {},
   "outputs": [
    {
     "name": "stdout",
     "output_type": "stream",
     "text": [
      "5041\n",
      "2199 2156\n",
      "[-0.5833317   0.3767015   0.71959718] [-0.49564678  0.36400581  0.78856454]\n",
      "0.11233693736814004\n",
      "0.20943951023931956\n",
      "49\n",
      "49\n"
     ]
    }
   ],
   "source": [
    "file = open(\"HIP_catalog_vectors_with_mag_less_than_6\", \"r\")\n",
    "catalog = get_data_from_file(file)\n",
    "print(len(catalog))\n",
    "print(ids[0], candidate_poles['id'][N])\n",
    "print(catalog[ids[0]], catalog[candidate_poles['id'][N]])\n",
    "print(dist1(catalog[ids[0]], catalog[candidate_poles['id'][N]]))\n",
    "print(np.deg2rad(12))"
   ]
  },
  {
   "cell_type": "code",
   "execution_count": 437,
   "metadata": {},
   "outputs": [
    {
     "name": "stdout",
     "output_type": "stream",
     "text": [
      "image position [-0.54462526  1.48899887] [1.4032962  1.55046836]\n",
      "catalog position [2.60789602 0.7165571 ] [2.56819271 0.80322204]\n",
      "image distance 1.0862647463745432\n",
      "catalog distance 0.03497242173724754\n"
     ]
    }
   ],
   "source": [
    "print(\"image position\", stars[1], stars[0])\n",
    "print(\"catalog position\", catalog[ids[1]], catalog[ids[0]])\n",
    "print(\"image distance\", dist1(stars[1], stars[0]))\n",
    "print(\"catalog distance\", dist1(catalog[ids[1]], catalog[ids[0]]))"
   ]
  },
  {
   "cell_type": "code",
   "execution_count": 446,
   "metadata": {},
   "outputs": [
    {
     "name": "stdout",
     "output_type": "stream",
     "text": [
      "[-0.5833317   0.3767015   0.71959718]\n",
      "0.09130830821251108\n",
      "0.091257247434918\n"
     ]
    }
   ],
   "source": [
    "def image_to_ra_de1(coords):\n",
    "    x, y, z = coords[0], coords[1], coords[2]\n",
    "    ra = np.arctan2(y, x)\n",
    "    de = np.arcsin(z)\n",
    "    return np.array([ra, de])\n",
    "\n",
    "def get_data_from_file(file):\n",
    "    catalog = []\n",
    "    for line in file:\n",
    "        line = list(map(float, line.split()))\n",
    "        line = line/np.linalg.norm(line)\n",
    "        catalog.append(line)\n",
    "        #catalog.append(image_to_ra_de(line))\n",
    "    return np.array(catalog)\n",
    "\n",
    "file = open(\"HIP_catalog_vectors_with_mag_less_than_6\", \"r\")\n",
    "catalog = get_data_from_file(file)\n",
    "file = open(\"data/id_0\")\n",
    "a = []\n",
    "for line in file:\n",
    "    a.append(catalog[int(line)])\n",
    "print(a[0])\n",
    "print(dist1(a[0], a[1]))\n",
    "\n",
    "\n",
    "file = open(\"data/stars_0\")\n",
    "b = get_data_from_file(file)\n",
    "\n",
    "print(dist1(b[0], b[1]))\n",
    "#print(image_to_ra_de1(a))"
   ]
  },
  {
   "cell_type": "markdown",
   "metadata": {},
   "source": [
    "graphs x axis is pixel noise, y axis is id rate\n",
    "same for x axis is mag noise\n",
    "same for x axis is false stars percentage against true stars\n",
    "each graph for each FOV\n",
    "return file with numbers\n",
    "implement id rate metric\n",
    "implement id = -1 for unidentified stars\n",
    "1. id rate = frac{num matched}{total number of stars}\n",
    "2. measure false recognition rate. False positives/total N\n",
    "3. No result. number of times back out of verification/total times run"
   ]
  },
  {
   "cell_type": "code",
   "execution_count": 381,
   "metadata": {},
   "outputs": [
    {
     "name": "stdout",
     "output_type": "stream",
     "text": [
      "0.26915958\n",
      "-48.80985919\n",
      "[ 0.00582595 -0.87855335]\n"
     ]
    },
    {
     "ename": "ValueError",
     "evalue": "4916 is not in list",
     "output_type": "error",
     "traceback": [
      "\u001b[0;31m---------------------------------------------------------------------------\u001b[0m",
      "\u001b[0;31mValueError\u001b[0m                                Traceback (most recent call last)",
      "\u001b[0;32m<ipython-input-381-365da8b85a1a>\u001b[0m in \u001b[0;36m<module>\u001b[0;34m\u001b[0m\n\u001b[1;32m      6\u001b[0m \u001b[0mprint\u001b[0m\u001b[0;34m(\u001b[0m\u001b[0mcatalog\u001b[0m\u001b[0;34m[\u001b[0m\u001b[0;36m0\u001b[0m\u001b[0;34m]\u001b[0m\u001b[0;34m)\u001b[0m\u001b[0;34m\u001b[0m\u001b[0;34m\u001b[0m\u001b[0m\n\u001b[1;32m      7\u001b[0m \u001b[0mids\u001b[0m \u001b[0;34m=\u001b[0m \u001b[0mc\u001b[0m\u001b[0;34m.\u001b[0m\u001b[0mcatalog\u001b[0m\u001b[0;34m.\u001b[0m\u001b[0mHIP\u001b[0m\u001b[0;34m.\u001b[0m\u001b[0mvalues\u001b[0m\u001b[0;34m.\u001b[0m\u001b[0mtolist\u001b[0m\u001b[0;34m(\u001b[0m\u001b[0;34m)\u001b[0m\u001b[0;34m\u001b[0m\u001b[0;34m\u001b[0m\u001b[0m\n\u001b[0;32m----> 8\u001b[0;31m \u001b[0mlist\u001b[0m\u001b[0;34m(\u001b[0m\u001b[0mids\u001b[0m\u001b[0;34m.\u001b[0m\u001b[0mindex\u001b[0m\u001b[0;34m(\u001b[0m\u001b[0;36m4916\u001b[0m\u001b[0;34m)\u001b[0m\u001b[0;34m)\u001b[0m\u001b[0;34m\u001b[0m\u001b[0;34m\u001b[0m\u001b[0m\n\u001b[0m",
      "\u001b[0;31mValueError\u001b[0m: 4916 is not in list"
     ]
    }
   ],
   "source": [
    "c = StarCatalog()\n",
    "print(c.catalog.RAdeg.values.tolist()[0])\n",
    "print(c.catalog.DEdeg.values.tolist()[0])\n",
    "file = open(\"HIP_catalog_vectors_with_mag_less_than_6\", \"r\")\n",
    "catalog = get_data_from_file(file)\n",
    "print(catalog[0])\n",
    "ids = c.catalog.HIP.values.tolist()\n",
    "list(ids.index(4916))"
   ]
  },
  {
   "cell_type": "code",
   "execution_count": 22,
   "metadata": {},
   "outputs": [
    {
     "name": "stdout",
     "output_type": "stream",
     "text": [
      "11784\n",
      "[8814, 9001, 9021, 9640, 9977, 10064, 10644, 11090, 11840, 12086, 12181, 12623, 11784]\n",
      "[12072, 8814, 9001, 9021, 9640, 9977, 10064, 10644, 11090, 11840, 12086, 12181, 12623, 11784]\n",
      "[ 8814  9001  9021  9640  9977 10064 10644 11090 11784 11840 12072 12086\n",
      " 12181 12623]\n",
      "\n",
      "4.917223930358887\n"
     ]
    }
   ],
   "source": [
    "#MPA Algorithm\n",
    "start = time.time()\n",
    "\n",
    "FOV = np.deg2rad(12)\n",
    "catalog = StarCatalog()\n",
    "ids = catalog.catalog.HIP.values.tolist()\n",
    "RA = np.deg2rad(catalog.catalog.RAdeg.tolist())\n",
    "DE = np.deg2rad(catalog.catalog.DEdeg.tolist())\n",
    "eps_pi = 0.0001\n",
    "\n",
    "candidate_poles, pole_ids = initialise()\n",
    "#features = create_feature_set()\n",
    "N = len(candidate_poles)-1\n",
    "pole_i, neighbours_i = acceptance_phase(features, \n",
    "                                        candidate_poles[N], \n",
    "                                        eps_pi)\n",
    "chain_set = recursive_MPA(pole_i, #first pole\n",
    "    neighbours_i, #first pole's neighbours\n",
    "    candidate_poles, #rest of poles\n",
    "    N-1, #j-th index\n",
    "    features) #[id0, id1, theta]\n",
    "print((chain_set))\n",
    "print((scene.ids))\n",
    "\n",
    "end = time.time()\n",
    "total_time = end - start\n",
    "print(\"\\n\"+ str(total_time))"
   ]
  }
 ],
 "metadata": {
  "kernelspec": {
   "display_name": "Python 3",
   "language": "python",
   "name": "python3"
  },
  "language_info": {
   "codemirror_mode": {
    "name": "ipython",
    "version": 3
   },
   "file_extension": ".py",
   "mimetype": "text/x-python",
   "name": "python",
   "nbconvert_exporter": "python",
   "pygments_lexer": "ipython3",
   "version": "3.8.5"
  }
 },
 "nbformat": 4,
 "nbformat_minor": 4
}
